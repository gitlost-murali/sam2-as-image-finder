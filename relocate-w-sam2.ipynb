{
 "cells": [
  {
   "cell_type": "code",
   "execution_count": 1,
   "id": "3c3b1c46-9f5c-41c1-9101-85db8709ec0d",
   "metadata": {},
   "outputs": [],
   "source": [
    "# Copyright (c) Meta Platforms, Inc. and affiliates."
   ]
  },
  {
   "cell_type": "markdown",
   "id": "18fedcd0-801d-4ef0-a5c8-ad046e1d74bf",
   "metadata": {},
   "source": [
    "# All rights reserved to Meta Platforms, Inc. and affiliates.\n",
    "# This is only an educational notebook. Please follow [SAM2 repo license](https://github.com/facebookresearch/segment-anything-2)"
   ]
  },
  {
   "cell_type": "markdown",
   "id": "6e7a0db5-7f04-4845-8b11-684fe6e9f7f2",
   "metadata": {},
   "source": [
    "# Patch locating with Video segmentation with SAM 2"
   ]
  },
  {
   "cell_type": "markdown",
   "id": "73ba7875-35e5-478b-b8ba-4b48e121dec7",
   "metadata": {},
   "source": [
    "This notebook shows how to use SAM 2 for patch relocation. It will cover the following:\n",
    "\n",
    "- create fake frames with target query image (frame-0) and the base image (frame-1).\n",
    "- adding bbox on the target query image in frame-0 and propagating to get _masklets_ in the frame (spatio-temporal masks) \n",
    "- propagating bboxes to get _masklets_ throughout the video\n",
    "- segmenting and tracking the object\n",
    "\n",
    "We use the terms _segment_ or _mask_ to refer to the model prediction for an object on a single frame, and _masklet_ to refer to the spatio-temporal masks across the entire video. \n",
    "\n",
    "If running locally using jupyter, first install `segment-anything-2` in your environment using the [installation instructions](https://github.com/facebookresearch/segment-anything-2#installation) in the repository."
   ]
  },
  {
   "cell_type": "code",
   "execution_count": 1,
   "id": "e5318a85-5bf7-4880-b2b3-15e4db24d796",
   "metadata": {},
   "outputs": [],
   "source": [
    "import os\n",
    "import torch\n",
    "import numpy as np\n",
    "import matplotlib.pyplot as plt\n",
    "from PIL import Image"
   ]
  },
  {
   "cell_type": "code",
   "execution_count": 2,
   "id": "08ba49d8-8c22-4eba-a2ab-46eee839287f",
   "metadata": {},
   "outputs": [],
   "source": [
    "# use bfloat16 for the entire notebook\n",
    "torch.autocast(device_type=\"cuda\", dtype=torch.bfloat16).__enter__()\n",
    "\n",
    "if torch.cuda.get_device_properties(0).major >= 8:\n",
    "    # turn on tfloat32 for Ampere GPUs (https://pytorch.org/docs/stable/notes/cuda.html#tensorfloat-32-tf32-on-ampere-devices)\n",
    "    torch.backends.cuda.matmul.allow_tf32 = True\n",
    "    torch.backends.cudnn.allow_tf32 = True"
   ]
  },
  {
   "cell_type": "markdown",
   "id": "ae8e0779-751f-4224-9b04-ed0f0b406500",
   "metadata": {},
   "source": [
    "### Loading the SAM 2 video predictor"
   ]
  },
  {
   "cell_type": "code",
   "execution_count": 3,
   "id": "f5f3245e-b4d6-418b-a42a-a67e0b3b5aec",
   "metadata": {},
   "outputs": [],
   "source": [
    "from sam2.build_sam import build_sam2_video_predictor\n",
    "\n",
    "sam2_checkpoint = \"../checkpoints/sam2_hiera_large.pt\"\n",
    "model_cfg = \"sam2_hiera_l.yaml\"\n",
    "\n",
    "predictor = build_sam2_video_predictor(model_cfg, sam2_checkpoint)"
   ]
  },
  {
   "cell_type": "code",
   "execution_count": 4,
   "id": "1a5320fe-06d7-45b8-b888-ae00799d07fa",
   "metadata": {},
   "outputs": [],
   "source": [
    "def show_mask(mask, ax, obj_id=None, random_color=False):\n",
    "    if random_color:\n",
    "        color = np.concatenate([np.random.random(3), np.array([0.6])], axis=0)\n",
    "    else:\n",
    "        cmap = plt.get_cmap(\"tab10\")\n",
    "        cmap_idx = 0 if obj_id is None else obj_id\n",
    "        color = np.array([*cmap(cmap_idx)[:3], 0.6])\n",
    "    h, w = mask.shape[-2:]\n",
    "    mask_image = mask.reshape(h, w, 1) * color.reshape(1, 1, -1)\n",
    "    ax.imshow(mask_image)\n",
    "\n",
    "\n",
    "def show_points(coords, labels, ax, marker_size=200):\n",
    "    pos_points = coords[labels==1]\n",
    "    neg_points = coords[labels==0]\n",
    "    ax.scatter(pos_points[:, 0], pos_points[:, 1], color='green', marker='*', s=marker_size, edgecolor='white', linewidth=1.25)\n",
    "    ax.scatter(neg_points[:, 0], neg_points[:, 1], color='red', marker='*', s=marker_size, edgecolor='white', linewidth=1.25)   "
   ]
  },
  {
   "cell_type": "markdown",
   "id": "f22aa751-b7cd-451e-9ded-fb98bf4bdfad",
   "metadata": {},
   "source": [
    "#### Create a dummy video with 2 frames"
   ]
  },
  {
   "cell_type": "code",
   "execution_count": 5,
   "id": "778f93ac-b300-45b2-b01f-8ee693845b45",
   "metadata": {},
   "outputs": [],
   "source": [
    "og_file = \"images/mobile.png\"\n",
    "cropped_file = \"images/crop2.png\"\n",
    "og_image = Image.open(og_file).convert(\"RGB\")\n",
    "cropped_image = Image.open(cropped_file).convert(\"RGB\")\n"
   ]
  },
  {
   "cell_type": "code",
   "execution_count": 6,
   "id": "9172f46b-8d0f-48bb-a7cd-ec2ae65d527d",
   "metadata": {},
   "outputs": [],
   "source": [
    "# `video_dir` a directory of JPEG frames with filenames like `<frame_index>.jpg`\n",
    "video_dir = \"./videos/crops\"\n",
    "# create the video directory if it doesn't exist\n",
    "os.makedirs(video_dir, exist_ok=True)\n"
   ]
  },
  {
   "cell_type": "code",
   "execution_count": 7,
   "id": "6d35811d-44d6-4451-b49a-568cb4235cc9",
   "metadata": {},
   "outputs": [],
   "source": [
    "def paste_image_on_blank_background(image, background_color=(255, 255, 255), new_image_size=None):\n",
    "    \"\"\"\n",
    "    Paste the image on a blank background with the specified color.\n",
    "    \"\"\"\n",
    "    assert new_image_size is not None, \"Please specify the new image size.\"\n",
    "    assert new_image_size[0] >= image.size[0], \"The new image width should be greater than or equal to the image width.\"\n",
    "    assert new_image_size[1] >= image.size[1], \"The new image height should be greater than or equal to the image height.\"\n",
    "    new_image = Image.new(\"RGB\", (new_image_size[0], new_image_size[1]), background_color)\n",
    "    new_image.paste(image, (0, 0))\n",
    "    coords = (0, 0, image.size[0], image.size[1])\n",
    "    return new_image, coords\n",
    "\n",
    "def create_fake_frames(image, cropped_image, output_dir):\n",
    "    \"\"\"\n",
    "    Create fake frames for the image.\n",
    "    \"\"\"\n",
    "    original_image_width, original_image_height = image.size\n",
    "    cropped_image_width, cropped_image_height = cropped_image.size\n",
    "\n",
    "    if cropped_image_width > original_image_width:\n",
    "        # Resize the cropped image to match the width of the original image while maintaining the aspect ratio\n",
    "        ratio = original_image_width / cropped_image_width\n",
    "        new_width = int(cropped_image_width * ratio)\n",
    "        new_height = int(cropped_image_height * ratio)\n",
    "        cropped_image = cropped_image.resize((new_width, new_height))\n",
    "\n",
    "    dummy_frame_with_crop, cropped_image_bbox = paste_image_on_blank_background(cropped_image, new_image_size=(original_image_width, original_image_height))\n",
    "    # save the dummy frame with crop\n",
    "    dummy_frame_with_crop.save(\"videos/crops/0.jpg\")\n",
    "    image.save(\"videos/crops/1.jpg\")\n",
    "    return cropped_image_bbox"
   ]
  },
  {
   "cell_type": "code",
   "execution_count": 8,
   "id": "81ad015a-ea66-42d5-b4a6-7f1e606626d2",
   "metadata": {},
   "outputs": [],
   "source": [
    "bbox = create_fake_frames(og_image, cropped_image, video_dir)"
   ]
  },
  {
   "cell_type": "code",
   "execution_count": null,
   "id": "2eebaa76-c202-4bc7-bf56-f50ad3705f50",
   "metadata": {},
   "outputs": [],
   "source": []
  },
  {
   "cell_type": "code",
   "execution_count": 9,
   "id": "b94c87ca-fd1a-4011-9609-e8be1cbe3230",
   "metadata": {},
   "outputs": [
    {
     "data": {
      "text/plain": [
       "<matplotlib.image.AxesImage at 0x7f6aef5fd690>"
      ]
     },
     "execution_count": 9,
     "metadata": {},
     "output_type": "execute_result"
    },
    {
     "data": {
      "image/png": "[encoded data removed]",
      "text/plain": [
       "<Figure size 1200x800 with 1 Axes>"
      ]
     },
     "metadata": {},
     "output_type": "display_data"
    }
   ],
   "source": [
    "\n",
    "\n",
    "# scan all the JPEG frame names in this directory\n",
    "frame_names = [\n",
    "    p for p in os.listdir(video_dir)\n",
    "    if os.path.splitext(p)[-1] in [\".jpg\", \".jpeg\", \".JPG\", \".JPEG\", \".png\"]\n",
    "]\n",
    "frame_names.sort(key=lambda p: int(os.path.splitext(p)[0]))\n",
    "\n",
    "# take a look the first video frame\n",
    "frame_idx = 0\n",
    "plt.figure(figsize=(12, 8))\n",
    "plt.title(f\"frame {frame_idx}\")\n",
    "plt.imshow(Image.open(os.path.join(video_dir, frame_names[frame_idx])))"
   ]
  },
  {
   "cell_type": "markdown",
   "id": "dff46b10-c17a-4a26-8004-8c6d80806b0a",
   "metadata": {},
   "source": [
    "#### Initialize the inference state"
   ]
  },
  {
   "cell_type": "markdown",
   "id": "f594ac71-a6b9-461d-af27-500fa1d1a420",
   "metadata": {},
   "source": [
    "SAM 2 requires stateful inference for interactive video segmentation, so we need to initialize an **inference state** on this video.\n",
    "\n",
    "During initialization, it loads all the JPEG frames in `video_path` and stores their pixels in `inference_state` (as shown in the progress bar below)."
   ]
  },
  {
   "cell_type": "code",
   "execution_count": 10,
   "id": "8967aed3-eb82-4866-b8df-0f4743255c2c",
   "metadata": {},
   "outputs": [
    {
     "name": "stderr",
     "output_type": "stream",
     "text": [
      "frame loading (JPEG): 100%|██████████| 2/2 [00:00<00:00,  9.38it/s]\n"
     ]
    }
   ],
   "source": [
    "inference_state = predictor.init_state(video_path=video_dir)"
   ]
  },
  {
   "cell_type": "markdown",
   "id": "edb1f3f6-d74d-4016-934c-8d2a14d1a543",
   "metadata": {},
   "source": [
    "### Example 1: Segment & track one object"
   ]
  },
  {
   "cell_type": "markdown",
   "id": "aa2d3127-67b2-45d2-9f32-8fe3e10dc5eb",
   "metadata": {},
   "source": [
    "Note: if you have run any previous tracking using this `inference_state`, please reset it first via `reset_state`.\n",
    "\n",
    "(The cell below is just for illustration; it's not needed to call `reset_state` here as this `inference_state` is just freshly initialized above.)"
   ]
  },
  {
   "cell_type": "code",
   "execution_count": 11,
   "id": "d2646a1d-3401-438c-a653-55e0e56b7d9d",
   "metadata": {},
   "outputs": [],
   "source": [
    "predictor.reset_state(inference_state)"
   ]
  },
  {
   "cell_type": "markdown",
   "id": "26aeb04d-8cba-4f57-95da-6e5a1796003e",
   "metadata": {},
   "source": [
    "#### Step 1: Add a first click on a frame"
   ]
  },
  {
   "cell_type": "markdown",
   "id": "695c7749-b523-4691-aad0-7558c5d1d68c",
   "metadata": {},
   "source": [
    "To get started, let's try to segment the child on the left.\n",
    "\n",
    "Here we make a **positive click** at (x, y) = (210, 350) with label `1`, by sending their coordinates and labels into the `add_new_points` API.\n",
    "\n",
    "Note: label `1` indicates a *positive click (to add a region)* while label `0` indicates a *negative click (to remove a region)*.\n",
    "\n",
    "One can also provide bounding boxes instead of clicks. I am going with clicks here."
   ]
  },
  {
   "cell_type": "code",
   "execution_count": null,
   "id": "3e749bab-0f36-4173-bf8d-0c20cd5214b3",
   "metadata": {},
   "outputs": [],
   "source": [
    "ann_frame_idx = 0  # the frame index we interact with\n",
    "ann_obj_id = 1  # give a unique id to each object we interact with (it can be any integers)\n",
    "\n",
    "\n",
    "# Let's add a positive click at (x, y) = (210, 350) to get started\n",
    "points = np.array([ [ (bbox[0] + bbox[2])/2, (bbox[1] + bbox[3])/2 ] ], dtype=np.float32)\n",
    "# for labels, `1` means positive click and `0` means negative click\n",
    "labels = np.array([1], np.int32)\n",
    "_, out_obj_ids, out_mask_logits = predictor.add_new_points(\n",
    "    inference_state=inference_state,\n",
    "    frame_idx=ann_frame_idx,\n",
    "    obj_id=ann_obj_id,\n",
    "    points=points,\n",
    "    labels=labels,\n",
    ")\n",
    "\n",
    "# show the results on the current (interacted) frame\n",
    "plt.figure(figsize=(12, 8))\n",
    "plt.title(f\"frame {ann_frame_idx}\")\n",
    "plt.imshow(Image.open(os.path.join(video_dir, frame_names[ann_frame_idx])))\n",
    "show_points(points, labels, plt.gca())\n",
    "show_mask((out_mask_logits[0] > 0.0).cpu().numpy(), plt.gca(), obj_id=out_obj_ids[0])"
   ]
  },
  {
   "cell_type": "markdown",
   "id": "89457875-93fa-40ed-b6dc-4e1c971a27f9",
   "metadata": {},
   "source": [
    "#### Step 2: Add a second click to refine the prediction"
   ]
  },
  {
   "cell_type": "markdown",
   "id": "a75eb21b-1413-452c-827b-a04093c30c78",
   "metadata": {},
   "source": [
    "There could be ambiguity from a single click about what the target object should be. We can refine the mask on this frame via another positive click. For the first click, I used the center of the bbox.\n",
    "\n",
    "You can make a **second positive click** at (x, y) anywhere inside the bbox with label `1` to expand the mask.\n",
    "\n",
    "Note: we need to send **all the clicks and their labels** (i.e. not just the last click) when calling `add_new_points`.\n",
    "\n",
    "Uncomment the cell below it if you want to add more points"
   ]
  },
  {
   "cell_type": "code",
   "execution_count": null,
   "id": "e1ab3ec7-2537-4158-bf98-3d0977d8908d",
   "metadata": {},
   "outputs": [],
   "source": [
    "# ann_frame_idx = 0  # the frame index we interact with\n",
    "# ann_obj_id = 1  # give a unique id to each object we interact with (it can be any integers)\n",
    "\n",
    "# # Let's add a 2nd positive click at (x, y) = (250, 220) to refine the mask\n",
    "# # sending all clicks (and their labels) to `add_new_points`\n",
    "# points = np.array([[210, 350], [250, 220]], dtype=np.float32)\n",
    "# # for labels, `1` means positive click and `0` means negative click\n",
    "# labels = np.array([1, 1], np.int32)\n",
    "# _, out_obj_ids, out_mask_logits = predictor.add_new_points(\n",
    "#     inference_state=inference_state,\n",
    "#     frame_idx=ann_frame_idx,\n",
    "#     obj_id=ann_obj_id,\n",
    "#     points=points,\n",
    "#     labels=labels,\n",
    "# )\n",
    "\n",
    "# # show the results on the current (interacted) frame\n",
    "# plt.figure(figsize=(12, 8))\n",
    "# plt.title(f\"frame {ann_frame_idx}\")\n",
    "# plt.imshow(Image.open(os.path.join(video_dir, frame_names[ann_frame_idx])))\n",
    "# show_points(points, labels, plt.gca())\n",
    "# show_mask((out_mask_logits[0] > 0.0).cpu().numpy(), plt.gca(), obj_id=out_obj_ids[0])"
   ]
  },
  {
   "cell_type": "markdown",
   "id": "df4ab457-d91d-4ac8-b350-fbcd549fd3fd",
   "metadata": {},
   "source": [
    "With this 2nd refinement click, now we can get a refined segmentation mask of the entire target query image on frame 0."
   ]
  },
  {
   "cell_type": "markdown",
   "id": "f52015ac-1b7b-4c59-bca3-c2b28484cf46",
   "metadata": {},
   "source": [
    "#### Step 3: Propagate the prompts to get the masklet across the video"
   ]
  },
  {
   "cell_type": "markdown",
   "id": "30b025bd-cd58-4bfb-9572-c8d2fd0a02ef",
   "metadata": {},
   "source": [
    "To get the masklet throughout the entire video, we propagate the prompts using the `propagate_in_video` API."
   ]
  },
  {
   "cell_type": "code",
   "execution_count": null,
   "id": "ab45e932-b0d5-4983-9718-6ee77d1ac31b",
   "metadata": {},
   "outputs": [],
   "source": [
    "# run propagation throughout the video and collect the results in a dict\n",
    "video_segments = {}  # video_segments contains the per-frame segmentation results\n",
    "for out_frame_idx, out_obj_ids, out_mask_logits in predictor.propagate_in_video(inference_state):\n",
    "    video_segments[out_frame_idx] = {\n",
    "        out_obj_id: (out_mask_logits[i] > 0.0).cpu().numpy()\n",
    "        for i, out_obj_id in enumerate(out_obj_ids)\n",
    "    }\n",
    "\n",
    "# render the segmentation results every few frames\n",
    "vis_frame_stride = 1\n",
    "plt.close(\"all\")\n",
    "for out_frame_idx in range(0, len(frame_names), vis_frame_stride):\n",
    "    plt.figure(figsize=(6, 4))\n",
    "    plt.title(f\"frame {out_frame_idx}\")\n",
    "    plt.imshow(Image.open(os.path.join(video_dir, frame_names[out_frame_idx])))\n",
    "    for out_obj_id, out_mask in video_segments[out_frame_idx].items():\n",
    "        show_mask(out_mask, plt.gca(), obj_id=out_obj_id)"
   ]
  },
  {
   "cell_type": "markdown",
   "id": "3e801b70-72df-4a72-b3fe-84f145e5e3f6",
   "metadata": {},
   "source": [
    "#### Step 4: Add new prompts to further refine the masklet"
   ]
  },
  {
   "cell_type": "markdown",
   "id": "478958ab-29b4-4a75-bba4-adb1b03d0a2b",
   "metadata": {},
   "source": [
    "It appears that in the output masklet above, there are some imperfections in boundary details on frame 150.\n",
    "\n",
    "With SAM 2 we can fix the model predictions interactively. We can add a **negative click**, if you think segmentation mask is extending to places it shouldn't, on this frame with label `0` to refine the masklet. Here we call the `add_new_points` API with a different `frame_idx` argument to indicate the frame index we want to refine."
   ]
  },
  {
   "cell_type": "markdown",
   "id": "a89f74b3-aa32-4c27-920c-630812ffab56",
   "metadata": {},
   "source": [
    "#### Step 5: You can also track multiple objects by adding them on frame 0 and providing their bboxes/clicks"
   ]
  },
  {
   "cell_type": "code",
   "execution_count": null,
   "id": "3ddb5e97-6715-42e3-8e9f-654ae412dc75",
   "metadata": {},
   "outputs": [],
   "source": []
  }
 ],
 "metadata": {
  "kernelspec": {
   "display_name": "Python 3 (ipykernel)",
   "language": "python",
   "name": "python3"
  },
  "language_info": {
   "codemirror_mode": {
    "name": "ipython",
    "version": 3
   },
   "file_extension": ".py",
   "mimetype": "text/x-python",
   "name": "python",
   "nbconvert_exporter": "python",
   "pygments_lexer": "ipython3",
   "version": "3.10.12"
  }
 },
 "nbformat": 4,
 "nbformat_minor": 5
}
